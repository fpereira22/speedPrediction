{
  "nbformat": 4,
  "nbformat_minor": 0,
  "metadata": {
    "colab": {
      "provenance": []
    },
    "kernelspec": {
      "name": "python3",
      "display_name": "Python 3"
    },
    "language_info": {
      "name": "python"
    }
  },
  "cells": [
    {
      "cell_type": "code",
      "source": [
        "!pip install shap"
      ],
      "metadata": {
        "id": "TWKZ-ZrF46Zo"
      },
      "execution_count": null,
      "outputs": []
    },
    {
      "cell_type": "code",
      "source": [
        "import os\n",
        "import pandas as pd\n",
        "import numpy as np\n",
        "import matplotlib.pyplot as plt\n",
        "import openpyxl\n",
        "import tensorflow as tf\n",
        "from openpyxl.drawing.image import Image\n",
        "from keras.models import Sequential\n",
        "from keras.layers import Dense\n",
        "from sklearn.metrics import mean_squared_error\n",
        "from sklearn.model_selection import train_test_split\n",
        "from openpyxl import Workbook"
      ],
      "metadata": {
        "id": "QU4XVZ6SEp3k"
      },
      "execution_count": 26,
      "outputs": []
    },
    {
      "cell_type": "code",
      "source": [
        "epochs = 128\n",
        "\n",
        "# Leer el archivo CSV con pandas\n",
        "data = pd.read_excel(\"p2_serie_de_tiempo.xlsx\")\n",
        "\n",
        "data = data.drop(['Fecha','Dia_sem','fest'], axis=1)\n",
        "data.head()"
      ],
      "metadata": {
        "colab": {
          "base_uri": "https://localhost:8080/",
          "height": 235
        },
        "id": "s7DOyqKZYCGt",
        "outputId": "b7363873-a742-4601-b352-159f679d7fbd"
      },
      "execution_count": 27,
      "outputs": [
        {
          "output_type": "execute_result",
          "data": {
            "text/plain": [
              "   Unnamed: 0  Horas  Agno  Mes  Dia_mes         20         21         22  \\\n",
              "0           1      6  2015    1        1  76.967742  65.548387  59.419355   \n",
              "1           2      7  2015    1        1  70.451613  66.467742  35.903226   \n",
              "2           3      8  2015    1        1  77.903226  47.193548  26.451613   \n",
              "3           4      9  2015    1        1  70.806452  48.338710  32.693548   \n",
              "4           5     10  2015    1        1  68.451613  50.924731  25.129032   \n",
              "\n",
              "          23         24  ...         58         59         60         61  \\\n",
              "0  60.258065  78.338710  ...  64.645161  46.612903  89.967742  83.451613   \n",
              "1  48.403226  50.145161  ...  56.661290  48.806452  75.209677  79.758065   \n",
              "2  33.419355  39.629032  ...  59.000000  46.709677  72.741935  71.161290   \n",
              "3  43.193548  59.338710  ...  54.758065  49.000000  75.612903  78.741935   \n",
              "4  44.516129  52.150538  ...  50.473118  55.290323  75.645161  81.612903   \n",
              "\n",
              "          62         64         65         66         67         68  \n",
              "0  90.645161  85.838710  85.612903  88.258065  85.709677  85.096774  \n",
              "1  68.161290  83.096774  81.048387  78.370968  73.306452  70.129032  \n",
              "2  65.096774  81.870968  79.225806  77.000000  70.419355  56.548387  \n",
              "3  79.419355  84.741935  80.419355  83.516129  75.741935  65.774194  \n",
              "4  75.064516  85.870968  80.838710  83.709677  77.677419  66.322581  \n",
              "\n",
              "[5 rows x 49 columns]"
            ],
            "text/html": [
              "\n",
              "  <div id=\"df-6b189a39-ab6e-4316-8ed0-d23e8547218e\">\n",
              "    <div class=\"colab-df-container\">\n",
              "      <div>\n",
              "<style scoped>\n",
              "    .dataframe tbody tr th:only-of-type {\n",
              "        vertical-align: middle;\n",
              "    }\n",
              "\n",
              "    .dataframe tbody tr th {\n",
              "        vertical-align: top;\n",
              "    }\n",
              "\n",
              "    .dataframe thead th {\n",
              "        text-align: right;\n",
              "    }\n",
              "</style>\n",
              "<table border=\"1\" class=\"dataframe\">\n",
              "  <thead>\n",
              "    <tr style=\"text-align: right;\">\n",
              "      <th></th>\n",
              "      <th>Unnamed: 0</th>\n",
              "      <th>Horas</th>\n",
              "      <th>Agno</th>\n",
              "      <th>Mes</th>\n",
              "      <th>Dia_mes</th>\n",
              "      <th>20</th>\n",
              "      <th>21</th>\n",
              "      <th>22</th>\n",
              "      <th>23</th>\n",
              "      <th>24</th>\n",
              "      <th>...</th>\n",
              "      <th>58</th>\n",
              "      <th>59</th>\n",
              "      <th>60</th>\n",
              "      <th>61</th>\n",
              "      <th>62</th>\n",
              "      <th>64</th>\n",
              "      <th>65</th>\n",
              "      <th>66</th>\n",
              "      <th>67</th>\n",
              "      <th>68</th>\n",
              "    </tr>\n",
              "  </thead>\n",
              "  <tbody>\n",
              "    <tr>\n",
              "      <th>0</th>\n",
              "      <td>1</td>\n",
              "      <td>6</td>\n",
              "      <td>2015</td>\n",
              "      <td>1</td>\n",
              "      <td>1</td>\n",
              "      <td>76.967742</td>\n",
              "      <td>65.548387</td>\n",
              "      <td>59.419355</td>\n",
              "      <td>60.258065</td>\n",
              "      <td>78.338710</td>\n",
              "      <td>...</td>\n",
              "      <td>64.645161</td>\n",
              "      <td>46.612903</td>\n",
              "      <td>89.967742</td>\n",
              "      <td>83.451613</td>\n",
              "      <td>90.645161</td>\n",
              "      <td>85.838710</td>\n",
              "      <td>85.612903</td>\n",
              "      <td>88.258065</td>\n",
              "      <td>85.709677</td>\n",
              "      <td>85.096774</td>\n",
              "    </tr>\n",
              "    <tr>\n",
              "      <th>1</th>\n",
              "      <td>2</td>\n",
              "      <td>7</td>\n",
              "      <td>2015</td>\n",
              "      <td>1</td>\n",
              "      <td>1</td>\n",
              "      <td>70.451613</td>\n",
              "      <td>66.467742</td>\n",
              "      <td>35.903226</td>\n",
              "      <td>48.403226</td>\n",
              "      <td>50.145161</td>\n",
              "      <td>...</td>\n",
              "      <td>56.661290</td>\n",
              "      <td>48.806452</td>\n",
              "      <td>75.209677</td>\n",
              "      <td>79.758065</td>\n",
              "      <td>68.161290</td>\n",
              "      <td>83.096774</td>\n",
              "      <td>81.048387</td>\n",
              "      <td>78.370968</td>\n",
              "      <td>73.306452</td>\n",
              "      <td>70.129032</td>\n",
              "    </tr>\n",
              "    <tr>\n",
              "      <th>2</th>\n",
              "      <td>3</td>\n",
              "      <td>8</td>\n",
              "      <td>2015</td>\n",
              "      <td>1</td>\n",
              "      <td>1</td>\n",
              "      <td>77.903226</td>\n",
              "      <td>47.193548</td>\n",
              "      <td>26.451613</td>\n",
              "      <td>33.419355</td>\n",
              "      <td>39.629032</td>\n",
              "      <td>...</td>\n",
              "      <td>59.000000</td>\n",
              "      <td>46.709677</td>\n",
              "      <td>72.741935</td>\n",
              "      <td>71.161290</td>\n",
              "      <td>65.096774</td>\n",
              "      <td>81.870968</td>\n",
              "      <td>79.225806</td>\n",
              "      <td>77.000000</td>\n",
              "      <td>70.419355</td>\n",
              "      <td>56.548387</td>\n",
              "    </tr>\n",
              "    <tr>\n",
              "      <th>3</th>\n",
              "      <td>4</td>\n",
              "      <td>9</td>\n",
              "      <td>2015</td>\n",
              "      <td>1</td>\n",
              "      <td>1</td>\n",
              "      <td>70.806452</td>\n",
              "      <td>48.338710</td>\n",
              "      <td>32.693548</td>\n",
              "      <td>43.193548</td>\n",
              "      <td>59.338710</td>\n",
              "      <td>...</td>\n",
              "      <td>54.758065</td>\n",
              "      <td>49.000000</td>\n",
              "      <td>75.612903</td>\n",
              "      <td>78.741935</td>\n",
              "      <td>79.419355</td>\n",
              "      <td>84.741935</td>\n",
              "      <td>80.419355</td>\n",
              "      <td>83.516129</td>\n",
              "      <td>75.741935</td>\n",
              "      <td>65.774194</td>\n",
              "    </tr>\n",
              "    <tr>\n",
              "      <th>4</th>\n",
              "      <td>5</td>\n",
              "      <td>10</td>\n",
              "      <td>2015</td>\n",
              "      <td>1</td>\n",
              "      <td>1</td>\n",
              "      <td>68.451613</td>\n",
              "      <td>50.924731</td>\n",
              "      <td>25.129032</td>\n",
              "      <td>44.516129</td>\n",
              "      <td>52.150538</td>\n",
              "      <td>...</td>\n",
              "      <td>50.473118</td>\n",
              "      <td>55.290323</td>\n",
              "      <td>75.645161</td>\n",
              "      <td>81.612903</td>\n",
              "      <td>75.064516</td>\n",
              "      <td>85.870968</td>\n",
              "      <td>80.838710</td>\n",
              "      <td>83.709677</td>\n",
              "      <td>77.677419</td>\n",
              "      <td>66.322581</td>\n",
              "    </tr>\n",
              "  </tbody>\n",
              "</table>\n",
              "<p>5 rows × 49 columns</p>\n",
              "</div>\n",
              "      <button class=\"colab-df-convert\" onclick=\"convertToInteractive('df-6b189a39-ab6e-4316-8ed0-d23e8547218e')\"\n",
              "              title=\"Convert this dataframe to an interactive table.\"\n",
              "              style=\"display:none;\">\n",
              "        \n",
              "  <svg xmlns=\"http://www.w3.org/2000/svg\" height=\"24px\"viewBox=\"0 0 24 24\"\n",
              "       width=\"24px\">\n",
              "    <path d=\"M0 0h24v24H0V0z\" fill=\"none\"/>\n",
              "    <path d=\"M18.56 5.44l.94 2.06.94-2.06 2.06-.94-2.06-.94-.94-2.06-.94 2.06-2.06.94zm-11 1L8.5 8.5l.94-2.06 2.06-.94-2.06-.94L8.5 2.5l-.94 2.06-2.06.94zm10 10l.94 2.06.94-2.06 2.06-.94-2.06-.94-.94-2.06-.94 2.06-2.06.94z\"/><path d=\"M17.41 7.96l-1.37-1.37c-.4-.4-.92-.59-1.43-.59-.52 0-1.04.2-1.43.59L10.3 9.45l-7.72 7.72c-.78.78-.78 2.05 0 2.83L4 21.41c.39.39.9.59 1.41.59.51 0 1.02-.2 1.41-.59l7.78-7.78 2.81-2.81c.8-.78.8-2.07 0-2.86zM5.41 20L4 18.59l7.72-7.72 1.47 1.35L5.41 20z\"/>\n",
              "  </svg>\n",
              "      </button>\n",
              "      \n",
              "  <style>\n",
              "    .colab-df-container {\n",
              "      display:flex;\n",
              "      flex-wrap:wrap;\n",
              "      gap: 12px;\n",
              "    }\n",
              "\n",
              "    .colab-df-convert {\n",
              "      background-color: #E8F0FE;\n",
              "      border: none;\n",
              "      border-radius: 50%;\n",
              "      cursor: pointer;\n",
              "      display: none;\n",
              "      fill: #1967D2;\n",
              "      height: 32px;\n",
              "      padding: 0 0 0 0;\n",
              "      width: 32px;\n",
              "    }\n",
              "\n",
              "    .colab-df-convert:hover {\n",
              "      background-color: #E2EBFA;\n",
              "      box-shadow: 0px 1px 2px rgba(60, 64, 67, 0.3), 0px 1px 3px 1px rgba(60, 64, 67, 0.15);\n",
              "      fill: #174EA6;\n",
              "    }\n",
              "\n",
              "    [theme=dark] .colab-df-convert {\n",
              "      background-color: #3B4455;\n",
              "      fill: #D2E3FC;\n",
              "    }\n",
              "\n",
              "    [theme=dark] .colab-df-convert:hover {\n",
              "      background-color: #434B5C;\n",
              "      box-shadow: 0px 1px 3px 1px rgba(0, 0, 0, 0.15);\n",
              "      filter: drop-shadow(0px 1px 2px rgba(0, 0, 0, 0.3));\n",
              "      fill: #FFFFFF;\n",
              "    }\n",
              "  </style>\n",
              "\n",
              "      <script>\n",
              "        const buttonEl =\n",
              "          document.querySelector('#df-6b189a39-ab6e-4316-8ed0-d23e8547218e button.colab-df-convert');\n",
              "        buttonEl.style.display =\n",
              "          google.colab.kernel.accessAllowed ? 'block' : 'none';\n",
              "\n",
              "        async function convertToInteractive(key) {\n",
              "          const element = document.querySelector('#df-6b189a39-ab6e-4316-8ed0-d23e8547218e');\n",
              "          const dataTable =\n",
              "            await google.colab.kernel.invokeFunction('convertToInteractive',\n",
              "                                                     [key], {});\n",
              "          if (!dataTable) return;\n",
              "\n",
              "          const docLinkHtml = 'Like what you see? Visit the ' +\n",
              "            '<a target=\"_blank\" href=https://colab.research.google.com/notebooks/data_table.ipynb>data table notebook</a>'\n",
              "            + ' to learn more about interactive tables.';\n",
              "          element.innerHTML = '';\n",
              "          dataTable['output_type'] = 'display_data';\n",
              "          await google.colab.output.renderOutput(dataTable, element);\n",
              "          const docLink = document.createElement('div');\n",
              "          docLink.innerHTML = docLinkHtml;\n",
              "          element.appendChild(docLink);\n",
              "        }\n",
              "      </script>\n",
              "    </div>\n",
              "  </div>\n",
              "  "
            ]
          },
          "metadata": {},
          "execution_count": 27
        }
      ]
    },
    {
      "cell_type": "code",
      "source": [
        "# Separar los datos en variables de entrada (X) y salida (y)\n",
        "X = data.iloc[:, 0:5].values\n",
        "y = data.iloc[:, 5:50].values"
      ],
      "metadata": {
        "id": "bKZbOzB2YEJ0"
      },
      "execution_count": 28,
      "outputs": []
    },
    {
      "cell_type": "code",
      "source": [
        "X_train, X_test, y_train, y_test = train_test_split(X, y, test_size=0.3, random_state=42)\n"
      ],
      "metadata": {
        "id": "Px3I-we-qFGu"
      },
      "execution_count": 29,
      "outputs": []
    },
    {
      "cell_type": "code",
      "source": [
        "print('X shape:', X.shape)"
      ],
      "metadata": {
        "colab": {
          "base_uri": "https://localhost:8080/"
        },
        "id": "dipgqbqwpqxJ",
        "outputId": "b744b2ee-5100-4844-c121-2354a53e5b74"
      },
      "execution_count": 30,
      "outputs": [
        {
          "output_type": "stream",
          "name": "stdout",
          "text": [
            "X shape: (7308, 5)\n"
          ]
        }
      ]
    },
    {
      "cell_type": "code",
      "source": [
        "print('y shape:', y.shape)"
      ],
      "metadata": {
        "colab": {
          "base_uri": "https://localhost:8080/"
        },
        "id": "fXCmHwV1puBN",
        "outputId": "2c403304-904a-4c96-8e52-8646a50e034c"
      },
      "execution_count": 31,
      "outputs": [
        {
          "output_type": "stream",
          "name": "stdout",
          "text": [
            "y shape: (7308, 44)\n"
          ]
        }
      ]
    },
    {
      "cell_type": "code",
      "source": [
        "# Definir el modelo de red neuronal feedforward\n",
        "model = Sequential()\n",
        "model.add(Dense(44, activation='relu',input_shape=(5,)))\n",
        "model.add(Dense(64, activation='relu'))\n",
        "model.add(Dense(64, activation='relu'))\n",
        "model.add(Dense(44))\n",
        "model.compile(optimizer='adam', loss='mse', metrics=['mae'])\n"
      ],
      "metadata": {
        "id": "AiFerApYYIIE"
      },
      "execution_count": 32,
      "outputs": []
    },
    {
      "cell_type": "code",
      "source": [
        "model.summary()"
      ],
      "metadata": {
        "colab": {
          "base_uri": "https://localhost:8080/"
        },
        "id": "zyBS2GFjWwiE",
        "outputId": "c6a3d5ad-98b2-4900-8d80-a5cd70a79ed1"
      },
      "execution_count": 33,
      "outputs": [
        {
          "output_type": "stream",
          "name": "stdout",
          "text": [
            "Model: \"sequential_2\"\n",
            "_________________________________________________________________\n",
            " Layer (type)                Output Shape              Param #   \n",
            "=================================================================\n",
            " dense_8 (Dense)             (None, 44)                264       \n",
            "                                                                 \n",
            " dense_9 (Dense)             (None, 64)                2880      \n",
            "                                                                 \n",
            " dense_10 (Dense)            (None, 64)                4160      \n",
            "                                                                 \n",
            " dense_11 (Dense)            (None, 44)                2860      \n",
            "                                                                 \n",
            "=================================================================\n",
            "Total params: 10,164\n",
            "Trainable params: 10,164\n",
            "Non-trainable params: 0\n",
            "_________________________________________________________________\n"
          ]
        }
      ]
    },
    {
      "cell_type": "code",
      "source": [
        "X_train[0]"
      ],
      "metadata": {
        "colab": {
          "base_uri": "https://localhost:8080/"
        },
        "id": "euYjTJGLiX16",
        "outputId": "87c4ba0e-2bdf-4a6e-a134-3c1958b23187"
      },
      "execution_count": 34,
      "outputs": [
        {
          "output_type": "execute_result",
          "data": {
            "text/plain": [
              "array([ 614,   17, 2015,    3,    3])"
            ]
          },
          "metadata": {},
          "execution_count": 34
        }
      ]
    },
    {
      "cell_type": "code",
      "source": [
        "y_train[0]"
      ],
      "metadata": {
        "colab": {
          "base_uri": "https://localhost:8080/"
        },
        "id": "Koy-i5G0VyFc",
        "outputId": "4e2b51bf-2e15-4ea9-8e42-ac5b8075c04f"
      },
      "execution_count": 35,
      "outputs": [
        {
          "output_type": "execute_result",
          "data": {
            "text/plain": [
              "array([73.5, 60. , 35. , 60. , 63. , 82. , 77.5, 76.5, 81.5, 83.5, 82. ,\n",
              "       78.5, 70. , 72. , 66.5, 64.5, 77. , 66.5, 73.5, 79.5, 54. , 72. ,\n",
              "       68.5, 81. , 65.5, 54. , 46.5, 57.5, 53.5, 52. , 62.5, 70.5, 74.5,\n",
              "       61. , 40.5, 50.5, 70. , 70. , 72. , 84. , 69. , 72. , 63. , 52. ])"
            ]
          },
          "metadata": {},
          "execution_count": 35
        }
      ]
    },
    {
      "cell_type": "code",
      "source": [
        "len(X_train[0])"
      ],
      "metadata": {
        "colab": {
          "base_uri": "https://localhost:8080/"
        },
        "id": "Qtkvb2mOicqW",
        "outputId": "a9970dd7-5487-4287-eec1-879e2acf7f1b"
      },
      "execution_count": 36,
      "outputs": [
        {
          "output_type": "execute_result",
          "data": {
            "text/plain": [
              "5"
            ]
          },
          "metadata": {},
          "execution_count": 36
        }
      ]
    },
    {
      "cell_type": "code",
      "source": [
        "len(y_train[0])"
      ],
      "metadata": {
        "colab": {
          "base_uri": "https://localhost:8080/"
        },
        "id": "JDaMHQsfbXyg",
        "outputId": "5eff8f29-5833-4760-bf2e-7e8fe065b2ee"
      },
      "execution_count": 37,
      "outputs": [
        {
          "output_type": "execute_result",
          "data": {
            "text/plain": [
              "44"
            ]
          },
          "metadata": {},
          "execution_count": 37
        }
      ]
    },
    {
      "cell_type": "code",
      "source": [
        "history = model.fit(X_train, y_train, epochs=128, validation_data=(X_test, y_test))\n"
      ],
      "metadata": {
        "colab": {
          "base_uri": "https://localhost:8080/"
        },
        "id": "usNhuTT2uBZg",
        "outputId": "005b9203-b640-4654-ca4c-9c54aea643b9"
      },
      "execution_count": 38,
      "outputs": [
        {
          "output_type": "stream",
          "name": "stdout",
          "text": [
            "Epoch 1/128\n",
            "160/160 [==============================] - 2s 4ms/step - loss: 4450.5825 - mae: 30.2147 - val_loss: 247.5209 - val_mae: 11.9353\n",
            "Epoch 2/128\n",
            "160/160 [==============================] - 0s 3ms/step - loss: 227.1175 - mae: 11.4154 - val_loss: 216.6572 - val_mae: 10.9928\n",
            "Epoch 3/128\n",
            "160/160 [==============================] - 1s 3ms/step - loss: 213.2373 - mae: 10.9853 - val_loss: 210.6699 - val_mae: 11.0606\n",
            "Epoch 4/128\n",
            "160/160 [==============================] - 0s 3ms/step - loss: 209.8580 - mae: 10.8823 - val_loss: 208.7670 - val_mae: 10.6317\n",
            "Epoch 5/128\n",
            "160/160 [==============================] - 1s 3ms/step - loss: 208.8150 - mae: 10.8413 - val_loss: 211.4032 - val_mae: 11.0618\n",
            "Epoch 6/128\n",
            "160/160 [==============================] - 0s 3ms/step - loss: 207.5821 - mae: 10.8021 - val_loss: 216.1487 - val_mae: 11.4560\n",
            "Epoch 7/128\n",
            "160/160 [==============================] - 1s 5ms/step - loss: 208.0751 - mae: 10.8383 - val_loss: 207.6567 - val_mae: 10.6991\n",
            "Epoch 8/128\n",
            "160/160 [==============================] - 1s 5ms/step - loss: 207.8500 - mae: 10.8178 - val_loss: 204.8283 - val_mae: 10.6229\n",
            "Epoch 9/128\n",
            "160/160 [==============================] - 1s 6ms/step - loss: 207.6862 - mae: 10.8136 - val_loss: 206.4467 - val_mae: 10.6642\n",
            "Epoch 10/128\n",
            "160/160 [==============================] - 1s 6ms/step - loss: 206.2797 - mae: 10.7655 - val_loss: 206.0427 - val_mae: 10.8920\n",
            "Epoch 11/128\n",
            "160/160 [==============================] - 1s 4ms/step - loss: 206.7281 - mae: 10.7948 - val_loss: 203.6744 - val_mae: 10.8132\n",
            "Epoch 12/128\n",
            "160/160 [==============================] - 1s 5ms/step - loss: 206.4772 - mae: 10.7849 - val_loss: 206.9511 - val_mae: 10.7325\n",
            "Epoch 13/128\n",
            "160/160 [==============================] - 1s 6ms/step - loss: 207.0485 - mae: 10.8042 - val_loss: 205.3908 - val_mae: 10.4893\n",
            "Epoch 14/128\n",
            "160/160 [==============================] - 1s 7ms/step - loss: 207.8168 - mae: 10.8299 - val_loss: 211.6336 - val_mae: 10.4677\n",
            "Epoch 15/128\n",
            "160/160 [==============================] - 2s 11ms/step - loss: 207.4622 - mae: 10.8063 - val_loss: 207.3533 - val_mae: 10.7279\n",
            "Epoch 16/128\n",
            "160/160 [==============================] - 1s 7ms/step - loss: 207.4109 - mae: 10.7908 - val_loss: 205.7848 - val_mae: 10.5893\n",
            "Epoch 17/128\n",
            "160/160 [==============================] - 1s 4ms/step - loss: 206.6863 - mae: 10.7770 - val_loss: 206.7986 - val_mae: 10.9127\n",
            "Epoch 18/128\n",
            "160/160 [==============================] - 1s 4ms/step - loss: 207.4193 - mae: 10.8103 - val_loss: 209.9234 - val_mae: 11.1228\n",
            "Epoch 19/128\n",
            "160/160 [==============================] - 1s 5ms/step - loss: 207.6871 - mae: 10.8242 - val_loss: 205.4034 - val_mae: 10.9251\n",
            "Epoch 20/128\n",
            "160/160 [==============================] - 1s 5ms/step - loss: 205.9730 - mae: 10.7678 - val_loss: 206.0020 - val_mae: 10.7645\n",
            "Epoch 21/128\n",
            "160/160 [==============================] - 1s 6ms/step - loss: 207.9150 - mae: 10.8318 - val_loss: 220.3657 - val_mae: 10.9680\n",
            "Epoch 22/128\n",
            "160/160 [==============================] - 1s 7ms/step - loss: 207.7053 - mae: 10.8013 - val_loss: 205.7354 - val_mae: 10.8532\n",
            "Epoch 23/128\n",
            "160/160 [==============================] - 1s 6ms/step - loss: 205.4339 - mae: 10.7473 - val_loss: 205.2156 - val_mae: 10.7033\n",
            "Epoch 24/128\n",
            "160/160 [==============================] - 1s 6ms/step - loss: 206.6236 - mae: 10.7787 - val_loss: 204.8743 - val_mae: 10.7872\n",
            "Epoch 25/128\n",
            "160/160 [==============================] - 1s 7ms/step - loss: 207.1628 - mae: 10.7959 - val_loss: 206.5404 - val_mae: 10.7964\n",
            "Epoch 26/128\n",
            "160/160 [==============================] - 1s 8ms/step - loss: 207.5454 - mae: 10.8137 - val_loss: 212.8387 - val_mae: 10.8430\n",
            "Epoch 27/128\n",
            "160/160 [==============================] - 2s 10ms/step - loss: 205.0899 - mae: 10.7278 - val_loss: 202.5414 - val_mae: 10.7455\n",
            "Epoch 28/128\n",
            "160/160 [==============================] - 2s 12ms/step - loss: 205.8281 - mae: 10.7586 - val_loss: 202.9792 - val_mae: 10.5828\n",
            "Epoch 29/128\n",
            "160/160 [==============================] - 1s 4ms/step - loss: 206.9016 - mae: 10.7967 - val_loss: 212.7994 - val_mae: 10.5770\n",
            "Epoch 30/128\n",
            "160/160 [==============================] - 1s 3ms/step - loss: 206.9174 - mae: 10.7799 - val_loss: 205.8372 - val_mae: 10.8778\n",
            "Epoch 31/128\n",
            "160/160 [==============================] - 0s 3ms/step - loss: 203.9673 - mae: 10.7011 - val_loss: 203.2655 - val_mae: 10.6519\n",
            "Epoch 32/128\n",
            "160/160 [==============================] - 0s 3ms/step - loss: 205.1212 - mae: 10.7384 - val_loss: 202.2225 - val_mae: 10.7306\n",
            "Epoch 33/128\n",
            "160/160 [==============================] - 0s 3ms/step - loss: 203.9336 - mae: 10.7034 - val_loss: 213.6406 - val_mae: 10.5842\n",
            "Epoch 34/128\n",
            "160/160 [==============================] - 0s 3ms/step - loss: 204.5965 - mae: 10.7098 - val_loss: 211.4713 - val_mae: 11.3995\n",
            "Epoch 35/128\n",
            "160/160 [==============================] - 0s 3ms/step - loss: 204.4527 - mae: 10.7136 - val_loss: 200.8757 - val_mae: 10.8193\n",
            "Epoch 36/128\n",
            "160/160 [==============================] - 0s 3ms/step - loss: 204.2549 - mae: 10.7162 - val_loss: 202.0216 - val_mae: 10.8666\n",
            "Epoch 37/128\n",
            "160/160 [==============================] - 0s 3ms/step - loss: 204.8480 - mae: 10.7308 - val_loss: 201.8762 - val_mae: 10.5626\n",
            "Epoch 38/128\n",
            "160/160 [==============================] - 0s 3ms/step - loss: 204.4585 - mae: 10.7096 - val_loss: 202.4867 - val_mae: 10.7345\n",
            "Epoch 39/128\n",
            "160/160 [==============================] - 0s 3ms/step - loss: 202.7504 - mae: 10.6623 - val_loss: 223.5755 - val_mae: 10.6067\n",
            "Epoch 40/128\n",
            "160/160 [==============================] - 0s 3ms/step - loss: 202.5220 - mae: 10.6500 - val_loss: 202.6300 - val_mae: 10.5867\n",
            "Epoch 41/128\n",
            "160/160 [==============================] - 0s 3ms/step - loss: 204.1470 - mae: 10.7183 - val_loss: 200.0655 - val_mae: 10.4495\n",
            "Epoch 42/128\n",
            "160/160 [==============================] - 0s 3ms/step - loss: 201.4021 - mae: 10.6264 - val_loss: 204.8211 - val_mae: 10.3417\n",
            "Epoch 43/128\n",
            "160/160 [==============================] - 0s 3ms/step - loss: 202.1725 - mae: 10.6432 - val_loss: 199.4745 - val_mae: 10.5456\n",
            "Epoch 44/128\n",
            "160/160 [==============================] - 0s 3ms/step - loss: 200.9513 - mae: 10.5989 - val_loss: 200.3802 - val_mae: 10.8475\n",
            "Epoch 45/128\n",
            "160/160 [==============================] - 0s 3ms/step - loss: 200.3747 - mae: 10.5898 - val_loss: 208.9967 - val_mae: 10.4371\n",
            "Epoch 46/128\n",
            "160/160 [==============================] - 0s 3ms/step - loss: 202.1574 - mae: 10.6374 - val_loss: 201.8458 - val_mae: 10.7427\n",
            "Epoch 47/128\n",
            "160/160 [==============================] - 0s 3ms/step - loss: 201.7854 - mae: 10.6387 - val_loss: 199.0961 - val_mae: 10.7331\n",
            "Epoch 48/128\n",
            "160/160 [==============================] - 0s 3ms/step - loss: 201.2463 - mae: 10.6195 - val_loss: 205.4812 - val_mae: 11.2519\n",
            "Epoch 49/128\n",
            "160/160 [==============================] - 0s 3ms/step - loss: 200.8564 - mae: 10.6136 - val_loss: 201.5085 - val_mae: 10.5215\n",
            "Epoch 50/128\n",
            "160/160 [==============================] - 0s 3ms/step - loss: 199.3687 - mae: 10.5692 - val_loss: 203.2451 - val_mae: 10.2705\n",
            "Epoch 51/128\n",
            "160/160 [==============================] - 0s 3ms/step - loss: 200.8038 - mae: 10.6111 - val_loss: 199.0148 - val_mae: 10.7415\n",
            "Epoch 52/128\n",
            "160/160 [==============================] - 0s 3ms/step - loss: 199.8441 - mae: 10.5832 - val_loss: 199.3091 - val_mae: 10.7217\n",
            "Epoch 53/128\n",
            "160/160 [==============================] - 1s 4ms/step - loss: 198.8658 - mae: 10.5502 - val_loss: 199.5495 - val_mae: 10.5375\n",
            "Epoch 54/128\n",
            "160/160 [==============================] - 1s 4ms/step - loss: 198.4554 - mae: 10.5533 - val_loss: 198.3975 - val_mae: 10.4855\n",
            "Epoch 55/128\n",
            "160/160 [==============================] - 1s 4ms/step - loss: 199.1910 - mae: 10.5522 - val_loss: 200.4423 - val_mae: 10.9355\n",
            "Epoch 56/128\n",
            "160/160 [==============================] - 1s 4ms/step - loss: 198.7689 - mae: 10.5538 - val_loss: 197.7909 - val_mae: 10.3522\n",
            "Epoch 57/128\n",
            "160/160 [==============================] - 1s 4ms/step - loss: 199.1294 - mae: 10.5732 - val_loss: 194.7804 - val_mae: 10.3977\n",
            "Epoch 58/128\n",
            "160/160 [==============================] - 0s 3ms/step - loss: 196.6597 - mae: 10.4833 - val_loss: 199.9622 - val_mae: 10.5606\n",
            "Epoch 59/128\n",
            "160/160 [==============================] - 0s 3ms/step - loss: 196.7066 - mae: 10.4925 - val_loss: 197.8870 - val_mae: 10.7304\n",
            "Epoch 60/128\n",
            "160/160 [==============================] - 0s 3ms/step - loss: 196.8257 - mae: 10.4992 - val_loss: 194.8466 - val_mae: 10.3060\n",
            "Epoch 61/128\n",
            "160/160 [==============================] - 0s 3ms/step - loss: 196.5304 - mae: 10.4862 - val_loss: 193.7490 - val_mae: 10.4968\n",
            "Epoch 62/128\n",
            "160/160 [==============================] - 0s 3ms/step - loss: 195.9812 - mae: 10.4641 - val_loss: 195.4310 - val_mae: 10.7296\n",
            "Epoch 63/128\n",
            "160/160 [==============================] - 0s 3ms/step - loss: 196.0431 - mae: 10.4798 - val_loss: 192.9430 - val_mae: 10.4408\n",
            "Epoch 64/128\n",
            "160/160 [==============================] - 0s 3ms/step - loss: 196.4407 - mae: 10.4858 - val_loss: 201.7240 - val_mae: 10.2312\n",
            "Epoch 65/128\n",
            "160/160 [==============================] - 0s 3ms/step - loss: 194.6936 - mae: 10.4296 - val_loss: 196.6163 - val_mae: 10.7810\n",
            "Epoch 66/128\n",
            "160/160 [==============================] - 0s 3ms/step - loss: 195.5250 - mae: 10.4583 - val_loss: 193.9417 - val_mae: 10.1835\n",
            "Epoch 67/128\n",
            "160/160 [==============================] - 0s 3ms/step - loss: 193.5696 - mae: 10.3961 - val_loss: 193.3317 - val_mae: 10.4745\n",
            "Epoch 68/128\n",
            "160/160 [==============================] - 0s 3ms/step - loss: 195.7616 - mae: 10.4597 - val_loss: 195.0811 - val_mae: 10.5612\n",
            "Epoch 69/128\n",
            "160/160 [==============================] - 0s 3ms/step - loss: 194.4894 - mae: 10.4277 - val_loss: 194.5799 - val_mae: 10.1945\n",
            "Epoch 70/128\n",
            "160/160 [==============================] - 0s 3ms/step - loss: 196.4130 - mae: 10.4824 - val_loss: 193.7287 - val_mae: 10.2520\n",
            "Epoch 71/128\n",
            "160/160 [==============================] - 0s 3ms/step - loss: 196.2327 - mae: 10.4863 - val_loss: 192.4371 - val_mae: 10.3061\n",
            "Epoch 72/128\n",
            "160/160 [==============================] - 0s 3ms/step - loss: 192.9982 - mae: 10.3784 - val_loss: 197.9511 - val_mae: 10.1072\n",
            "Epoch 73/128\n",
            "160/160 [==============================] - 0s 3ms/step - loss: 192.4691 - mae: 10.3577 - val_loss: 191.2861 - val_mae: 10.0680\n",
            "Epoch 74/128\n",
            "160/160 [==============================] - 0s 3ms/step - loss: 192.1591 - mae: 10.3556 - val_loss: 189.6885 - val_mae: 10.2931\n",
            "Epoch 75/128\n",
            "160/160 [==============================] - 0s 3ms/step - loss: 190.4333 - mae: 10.2986 - val_loss: 188.0934 - val_mae: 10.1189\n",
            "Epoch 76/128\n",
            "160/160 [==============================] - 0s 3ms/step - loss: 190.4667 - mae: 10.2894 - val_loss: 194.0249 - val_mae: 10.6831\n",
            "Epoch 77/128\n",
            "160/160 [==============================] - 0s 3ms/step - loss: 188.2886 - mae: 10.2150 - val_loss: 195.7853 - val_mae: 10.5013\n",
            "Epoch 78/128\n",
            "160/160 [==============================] - 0s 3ms/step - loss: 187.9195 - mae: 10.2022 - val_loss: 188.5502 - val_mae: 10.0386\n",
            "Epoch 79/128\n",
            "160/160 [==============================] - 0s 3ms/step - loss: 189.4203 - mae: 10.2328 - val_loss: 188.3613 - val_mae: 10.3078\n",
            "Epoch 80/128\n",
            "160/160 [==============================] - 1s 4ms/step - loss: 187.5809 - mae: 10.1790 - val_loss: 193.5859 - val_mae: 10.4014\n",
            "Epoch 81/128\n",
            "160/160 [==============================] - 1s 4ms/step - loss: 186.3336 - mae: 10.1329 - val_loss: 200.1249 - val_mae: 10.2356\n",
            "Epoch 82/128\n",
            "160/160 [==============================] - 1s 4ms/step - loss: 186.4835 - mae: 10.1376 - val_loss: 183.8791 - val_mae: 10.2223\n",
            "Epoch 83/128\n",
            "160/160 [==============================] - 1s 4ms/step - loss: 192.5783 - mae: 10.3413 - val_loss: 192.1817 - val_mae: 10.6808\n",
            "Epoch 84/128\n",
            "160/160 [==============================] - 1s 4ms/step - loss: 189.9070 - mae: 10.2630 - val_loss: 184.6205 - val_mae: 10.2380\n",
            "Epoch 85/128\n",
            "160/160 [==============================] - 0s 3ms/step - loss: 183.1178 - mae: 10.0287 - val_loss: 180.1745 - val_mae: 9.9207\n",
            "Epoch 86/128\n",
            "160/160 [==============================] - 0s 3ms/step - loss: 187.7332 - mae: 10.1743 - val_loss: 183.8775 - val_mae: 10.2449\n",
            "Epoch 87/128\n",
            "160/160 [==============================] - 1s 3ms/step - loss: 183.7042 - mae: 10.0532 - val_loss: 192.6342 - val_mae: 10.0745\n",
            "Epoch 88/128\n",
            "160/160 [==============================] - 0s 3ms/step - loss: 186.3066 - mae: 10.1295 - val_loss: 182.0910 - val_mae: 10.1260\n",
            "Epoch 89/128\n",
            "160/160 [==============================] - 0s 3ms/step - loss: 183.2976 - mae: 10.0303 - val_loss: 180.6165 - val_mae: 9.9756\n",
            "Epoch 90/128\n",
            "160/160 [==============================] - 0s 3ms/step - loss: 184.6149 - mae: 10.0536 - val_loss: 191.4934 - val_mae: 10.3070\n",
            "Epoch 91/128\n",
            "160/160 [==============================] - 0s 3ms/step - loss: 182.9323 - mae: 10.0193 - val_loss: 181.7527 - val_mae: 10.1349\n",
            "Epoch 92/128\n",
            "160/160 [==============================] - 0s 3ms/step - loss: 181.9897 - mae: 9.9774 - val_loss: 180.1891 - val_mae: 9.9771\n",
            "Epoch 93/128\n",
            "160/160 [==============================] - 0s 3ms/step - loss: 178.1706 - mae: 9.8612 - val_loss: 175.7267 - val_mae: 9.8401\n",
            "Epoch 94/128\n",
            "160/160 [==============================] - 0s 3ms/step - loss: 180.5858 - mae: 9.9179 - val_loss: 183.1309 - val_mae: 10.1524\n",
            "Epoch 95/128\n",
            "160/160 [==============================] - 0s 3ms/step - loss: 179.0013 - mae: 9.8728 - val_loss: 194.2154 - val_mae: 11.0490\n",
            "Epoch 96/128\n",
            "160/160 [==============================] - 0s 3ms/step - loss: 181.8548 - mae: 9.9747 - val_loss: 186.6567 - val_mae: 9.9264\n",
            "Epoch 97/128\n",
            "160/160 [==============================] - 0s 3ms/step - loss: 181.5378 - mae: 9.9485 - val_loss: 178.8977 - val_mae: 10.0038\n",
            "Epoch 98/128\n",
            "160/160 [==============================] - 0s 3ms/step - loss: 179.9366 - mae: 9.9187 - val_loss: 178.5624 - val_mae: 10.0001\n",
            "Epoch 99/128\n",
            "160/160 [==============================] - 0s 3ms/step - loss: 182.3064 - mae: 9.9627 - val_loss: 179.0667 - val_mae: 9.9389\n",
            "Epoch 100/128\n",
            "160/160 [==============================] - 0s 3ms/step - loss: 179.0036 - mae: 9.8711 - val_loss: 180.8696 - val_mae: 10.1926\n",
            "Epoch 101/128\n",
            "160/160 [==============================] - 0s 3ms/step - loss: 179.7048 - mae: 9.8966 - val_loss: 179.4396 - val_mae: 9.9601\n",
            "Epoch 102/128\n",
            "160/160 [==============================] - 0s 3ms/step - loss: 178.9980 - mae: 9.8736 - val_loss: 180.8611 - val_mae: 9.9974\n",
            "Epoch 103/128\n",
            "160/160 [==============================] - 0s 3ms/step - loss: 177.5242 - mae: 9.8257 - val_loss: 179.3695 - val_mae: 10.0971\n",
            "Epoch 104/128\n",
            "160/160 [==============================] - 0s 3ms/step - loss: 177.8366 - mae: 9.8250 - val_loss: 177.6294 - val_mae: 9.8160\n",
            "Epoch 105/128\n",
            "160/160 [==============================] - 0s 3ms/step - loss: 179.4542 - mae: 9.8903 - val_loss: 174.7353 - val_mae: 9.8150\n",
            "Epoch 106/128\n",
            "160/160 [==============================] - 1s 4ms/step - loss: 178.8648 - mae: 9.8639 - val_loss: 179.9402 - val_mae: 10.1737\n",
            "Epoch 107/128\n",
            "160/160 [==============================] - 1s 4ms/step - loss: 179.7410 - mae: 9.8939 - val_loss: 179.8704 - val_mae: 9.7062\n",
            "Epoch 108/128\n",
            "160/160 [==============================] - 1s 4ms/step - loss: 177.2133 - mae: 9.8287 - val_loss: 176.7634 - val_mae: 9.7128\n",
            "Epoch 109/128\n",
            "160/160 [==============================] - 1s 4ms/step - loss: 177.1092 - mae: 9.8063 - val_loss: 175.6996 - val_mae: 9.6301\n",
            "Epoch 110/128\n",
            "160/160 [==============================] - 1s 4ms/step - loss: 177.4794 - mae: 9.8213 - val_loss: 174.7618 - val_mae: 9.7040\n",
            "Epoch 111/128\n",
            "160/160 [==============================] - 0s 3ms/step - loss: 176.0600 - mae: 9.7725 - val_loss: 188.8131 - val_mae: 10.3721\n",
            "Epoch 112/128\n",
            "160/160 [==============================] - 0s 3ms/step - loss: 176.1422 - mae: 9.7761 - val_loss: 180.1127 - val_mae: 10.2604\n",
            "Epoch 113/128\n",
            "160/160 [==============================] - 0s 3ms/step - loss: 176.1106 - mae: 9.7713 - val_loss: 180.3452 - val_mae: 10.1475\n",
            "Epoch 114/128\n",
            "160/160 [==============================] - 0s 3ms/step - loss: 178.7489 - mae: 9.8575 - val_loss: 185.0413 - val_mae: 10.1001\n",
            "Epoch 115/128\n",
            "160/160 [==============================] - 0s 3ms/step - loss: 175.6380 - mae: 9.7650 - val_loss: 180.8352 - val_mae: 9.6733\n",
            "Epoch 116/128\n",
            "160/160 [==============================] - 0s 3ms/step - loss: 178.5612 - mae: 9.8329 - val_loss: 180.2934 - val_mae: 10.1970\n",
            "Epoch 117/128\n",
            "160/160 [==============================] - 0s 3ms/step - loss: 177.5663 - mae: 9.8197 - val_loss: 178.8455 - val_mae: 10.0045\n",
            "Epoch 118/128\n",
            "160/160 [==============================] - 0s 3ms/step - loss: 176.3911 - mae: 9.7784 - val_loss: 175.7024 - val_mae: 9.8278\n",
            "Epoch 119/128\n",
            "160/160 [==============================] - 0s 3ms/step - loss: 177.4622 - mae: 9.8215 - val_loss: 176.0603 - val_mae: 9.9938\n",
            "Epoch 120/128\n",
            "160/160 [==============================] - 0s 3ms/step - loss: 175.8502 - mae: 9.7695 - val_loss: 176.9763 - val_mae: 9.8979\n",
            "Epoch 121/128\n",
            "160/160 [==============================] - 0s 3ms/step - loss: 177.3308 - mae: 9.8096 - val_loss: 179.1380 - val_mae: 9.6347\n",
            "Epoch 122/128\n",
            "160/160 [==============================] - 0s 3ms/step - loss: 176.5453 - mae: 9.7914 - val_loss: 178.0055 - val_mae: 9.6604\n",
            "Epoch 123/128\n",
            "160/160 [==============================] - 0s 3ms/step - loss: 175.6453 - mae: 9.7675 - val_loss: 179.8669 - val_mae: 10.2980\n",
            "Epoch 124/128\n",
            "160/160 [==============================] - 0s 3ms/step - loss: 175.7003 - mae: 9.7563 - val_loss: 183.8403 - val_mae: 9.7065\n",
            "Epoch 125/128\n",
            "160/160 [==============================] - 0s 3ms/step - loss: 175.8090 - mae: 9.7747 - val_loss: 176.4594 - val_mae: 10.0747\n",
            "Epoch 126/128\n",
            "160/160 [==============================] - 0s 3ms/step - loss: 175.2186 - mae: 9.7410 - val_loss: 176.2186 - val_mae: 10.0676\n",
            "Epoch 127/128\n",
            "160/160 [==============================] - 0s 3ms/step - loss: 176.1361 - mae: 9.7805 - val_loss: 174.8033 - val_mae: 9.6782\n",
            "Epoch 128/128\n",
            "160/160 [==============================] - 0s 3ms/step - loss: 178.3076 - mae: 9.8389 - val_loss: 175.7122 - val_mae: 10.0049\n"
          ]
        }
      ]
    },
    {
      "cell_type": "code",
      "source": [
        "prediccion = model.predict(X_test)"
      ],
      "metadata": {
        "colab": {
          "base_uri": "https://localhost:8080/"
        },
        "id": "gMrk1NSlk08X",
        "outputId": "ac58ddef-a2e1-4870-d709-bee19be56396"
      },
      "execution_count": 39,
      "outputs": [
        {
          "output_type": "stream",
          "name": "stdout",
          "text": [
            "69/69 [==============================] - 0s 1ms/step\n"
          ]
        }
      ]
    },
    {
      "cell_type": "code",
      "source": [
        "print(prediccion)"
      ],
      "metadata": {
        "colab": {
          "base_uri": "https://localhost:8080/"
        },
        "id": "ccokBNakk8GN",
        "outputId": "e8f99b65-537c-4615-85e0-ca64270f047f"
      },
      "execution_count": 40,
      "outputs": [
        {
          "output_type": "stream",
          "name": "stdout",
          "text": [
            "[[70.26069  51.535362 28.041933 ... 74.67363  75.35979  61.203815]\n",
            " [67.35373  52.07922  33.881645 ... 67.3449   65.58841  60.882336]\n",
            " [65.10648  41.345604 28.459757 ... 60.83564  61.601635 50.25177 ]\n",
            " ...\n",
            " [73.307365 55.152664 29.746462 ... 78.99764  76.60194  64.0253  ]\n",
            " [72.08293  53.215897 30.375717 ... 79.60299  75.885155 67.63409 ]\n",
            " [73.34859  62.73675  34.743534 ... 70.63724  68.5251   67.31865 ]]\n"
          ]
        }
      ]
    },
    {
      "cell_type": "code",
      "source": [
        "input_data = np.array([[614,17, 2015, 3, 3]])\n",
        "prediccion1 = model.predict(input_data)"
      ],
      "metadata": {
        "colab": {
          "base_uri": "https://localhost:8080/"
        },
        "id": "6_W2c3aAmVdA",
        "outputId": "c2ca1e68-4464-4091-9de5-29c5b60e0574"
      },
      "execution_count": 41,
      "outputs": [
        {
          "output_type": "stream",
          "name": "stdout",
          "text": [
            "1/1 [==============================] - 0s 28ms/step\n"
          ]
        }
      ]
    },
    {
      "cell_type": "code",
      "source": [
        "print(prediccion1)"
      ],
      "metadata": {
        "colab": {
          "base_uri": "https://localhost:8080/"
        },
        "id": "NINid7cHpAWN",
        "outputId": "8d8b0b29-7145-4bda-f9b1-17dae9cfadc4"
      },
      "execution_count": 42,
      "outputs": [
        {
          "output_type": "stream",
          "name": "stdout",
          "text": [
            "[[68.24657  49.50521  33.096592 48.87284  56.802597 71.01618  74.48391\n",
            "  71.20897  75.81591  72.99526  72.926575 74.25571  76.013306 75.714676\n",
            "  70.357925 74.4789   75.82267  74.71396  74.96948  75.55543  65.64613\n",
            "  68.78454  70.68407  60.495747 63.42893  56.244034 48.316685 43.820854\n",
            "  43.158123 42.452316 61.00307  67.01176  65.30538  61.589767 38.14284\n",
            "  39.72446  57.178337 66.58909  69.21378  71.33589  70.048256 71.07589\n",
            "  69.326836 55.45715 ]]\n"
          ]
        }
      ]
    },
    {
      "cell_type": "code",
      "source": [
        "# Graficar los valores de epoch vs loss y guardar la imagen\n",
        "history_dict = history.history\n",
        "loss_values = history_dict['loss']\n",
        "val_loss_values = history_dict['val_loss']\n",
        "epochs = range(1, len(loss_values) + 1)\n",
        "\n",
        "plt.plot(epochs, loss_values, label='Training loss')\n",
        "plt.plot(epochs, val_loss_values, label='Validation loss')\n",
        "plt.title('Loss vs Epoch')\n",
        "plt.xlabel('Epoch')\n",
        "plt.ylabel('Loss')\n",
        "plt.legend()\n",
        "\n",
        "plt.savefig(\"loss_vs_epoch.png\")\n",
        "plt.show()\n"
      ],
      "metadata": {
        "colab": {
          "base_uri": "https://localhost:8080/",
          "height": 472
        },
        "id": "h_rYFnKWrXlO",
        "outputId": "dd99f4f5-2aac-4a93-dce3-585fa03b3201"
      },
      "execution_count": 43,
      "outputs": [
        {
          "output_type": "display_data",
          "data": {
            "text/plain": [
              "<Figure size 640x480 with 1 Axes>"
            ],
            "image/png": "[encoded data removed]"
          },
          "metadata": {}
        }
      ]
    },
    {
      "cell_type": "code",
      "source": [
        "# Graficar la pérdida de entrenamiento y validación a lo largo de las épocas\n",
        "history_dict = history.history\n",
        "val_loss_values = history_dict['val_loss']\n",
        "epochs = range(1, len(val_loss_values) + 1)\n",
        "\n",
        "plt.plot(epochs, val_loss_values, linestyle='none', marker='o')\n",
        "plt.title('Validation loss')\n",
        "plt.xlabel('Epochs')\n",
        "plt.ylabel('Loss')\n",
        "\n",
        "# Ajustar una línea de tendencia y graficarla\n",
        "z = np.polyfit(epochs, val_loss_values, 1)\n",
        "p = np.poly1d(z)\n",
        "plt.plot(epochs, p(epochs), \"r--\", label=\"Tendencia\")\n",
        "\n",
        "# Mostrar leyenda y guardar imagen\n",
        "plt.legend()\n",
        "plt.savefig(\"error_de_validacion.png\")\n",
        "plt.show()\n",
        "\n",
        "plt.show()\n"
      ],
      "metadata": {
        "colab": {
          "base_uri": "https://localhost:8080/",
          "height": 472
        },
        "id": "Lp_ucBOwru7C",
        "outputId": "a31e0ff0-e4c0-4574-e106-35881e17f7e6"
      },
      "execution_count": 44,
      "outputs": [
        {
          "output_type": "display_data",
          "data": {
            "text/plain": [
              "<Figure size 640x480 with 1 Axes>"
            ],
            "image/png": "[encoded data removed]"
          },
          "metadata": {}
        }
      ]
    },
    {
      "cell_type": "code",
      "source": [
        "# Crear el archivo Excel y escribir las cabeceras de las columnas en la primera hoja\n",
        "book = Workbook()\n",
        "sheet1 = book.active\n",
        "sheet1.title = \"infomacion\"\n",
        "sheet1['A1'] = 'Epoch'\n",
        "sheet1['B1'] = 'Loss'\n",
        "sheet1['C1'] = 'MSE'\n",
        "# Escribir los valores de epoch, loss y val_mse en la primera hoja del archivo Excel\n",
        "for i, (loss, mse) in enumerate(zip(history.history['loss'], history.history['val_mae'])):\n",
        "    sheet1['A{}'.format(i+2)] = i+1\n",
        "    sheet1['B{}'.format(i+2)] = loss\n",
        "    sheet1['C{}'.format(i+2)] = mse\n",
        "\n",
        "# Guardar los valores de las predicciones en la segunda hoja del archivo Excel\n",
        "sheet2 = book.create_sheet(\"valores_predicciones\")\n",
        "sheet2['A1'] = 'Prediccion 1'\n",
        "sheet2['B1'] = 'Predicciones TOTALES'\n",
        "for i, (pred1, pred2) in enumerate(zip(prediccion1[0], prediccion)):\n",
        "    sheet2['A{}'.format(i+2)] = str(pred1)\n",
        "    sheet2['B{}'.format(i+2)] = ', '.join(str(x) for x in pred2)\n",
        "\n",
        "# Cargar las imágenes de los archivos\n",
        "loss_vs_epoch = openpyxl.drawing.image.Image('loss_vs_epoch.png')\n",
        "error_de_validacion = openpyxl.drawing.image.Image('error_de_validacion.png')\n",
        "\n",
        "# Añadir las imágenes a la hoja de gráficos\n",
        "sheet1.add_image(loss_vs_epoch, 'E1')\n",
        "sheet1.add_image(error_de_validacion, 'P1')\n",
        "\n",
        "# Guardar el archivo Excel\n",
        "book.save(\"modelo.xlsx\")"
      ],
      "metadata": {
        "id": "gqEvArGCYYaN"
      },
      "execution_count": null,
      "outputs": []
    }
  ]
}